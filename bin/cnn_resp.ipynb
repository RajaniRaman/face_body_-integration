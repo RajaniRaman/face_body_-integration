{
 "cells": [
  {
   "cell_type": "code",
   "execution_count": 17,
   "metadata": {},
   "outputs": [],
   "source": [
    "import torch\n",
    "import torchvision.models as models\n",
    "import torchvision.transforms as transforms\n",
    "import torch.multiprocessing\n",
    "from torchvision.models.feature_extraction import get_graph_node_names, create_feature_extractor\n",
    "from PIL import Image\n",
    "from tqdm import tqdm\n",
    "import os\n",
    "import natsort \n",
    "import pickle\n",
    "from pathlib import Path\n",
    "from tqdm import tqdm"
   ]
  },
  {
   "cell_type": "code",
   "execution_count": 18,
   "metadata": {},
   "outputs": [
    {
     "name": "stderr",
     "output_type": "stream",
     "text": [
      "100%|██████████| 2/2 [00:26<00:00, 13.43s/it]\n"
     ]
    }
   ],
   "source": [
    "opt_zscore = True\n",
    "sub_background = True\n",
    "networks = ['alexnet', 'vgg16']\n",
    "untrained_nets = [True, False]\n",
    "input_imsize = 500 # 227, 500\n",
    "\n",
    "for network in tqdm(networks):\n",
    "    for untrained_net in untrained_nets:\n",
    "# network = 'vgg16'\n",
    "\n",
    "        if network == 'alexnet':\n",
    "            if untrained_net:\n",
    "                weight = None\n",
    "            else:\n",
    "                weight = models.AlexNet_Weights.IMAGENET1K_V1\n",
    "            layer_idx = [2, 5, 8, 10, 12, 18, 21]\n",
    "\n",
    "        elif network == 'vgg16':\n",
    "            if untrained_net:\n",
    "                weight = None\n",
    "            else:\n",
    "                weight = models.VGG16_Weights.IMAGENET1K_V1\n",
    "            layer_idx = [4, 9, 16, 23, 30, 35, 38]\n",
    "\n",
    "        model = eval(f'models.{network}(weights=weight)')\n",
    "        model.eval()\n",
    "\n",
    "    \n",
    "        data_dir = f'../data/{input_imsize}_sq'\n",
    "        result_dir = Path('../results/')\n",
    "        filenames = natsort.natsorted([name for name in os.listdir(data_dir) if name.endswith('.png')])\n",
    "        fname_wo_ext = [fname.split('.')[0] for fname in filenames]\n",
    "\n",
    "        transform = transforms.Compose([            \n",
    "            transforms.Resize(227),                   \n",
    "            transforms.CenterCrop(227),                \n",
    "            transforms.ToTensor(),                     \n",
    "            transforms.Normalize(                      \n",
    "            mean=[0.485, 0.456, 0.406],                \n",
    "            std=[0.229, 0.224, 0.225]                  \n",
    "            )])\n",
    "\n",
    "        # transform = weight.transforms()\n",
    "            \n",
    "        batch_size = len(filenames)\n",
    "        batch =torch.zeros(batch_size, 3, 227, 227)\n",
    "        for i, filename in enumerate(filenames):\n",
    "            batch[i] = transform(Image.open(os.path.join(data_dir, filename)).convert('RGB'))\n",
    "\n",
    "        _, nodes = get_graph_node_names(model)\n",
    "\n",
    "        layers = ['Layer1', 'Layer2', 'Layer3', 'Layer4', 'Layer5', 'Layer6', 'Layer7']\n",
    "        nodes_of_interest = [nodes[idx] for idx in layer_idx]\n",
    "        return_nodes = dict(zip(nodes_of_interest, layers))\n",
    "        return_nodes\n",
    "\n",
    "        # from torchvision.models.feature_extraction import create_feature_extractor\n",
    "        feature_extractor = create_feature_extractor(model, return_nodes=return_nodes)\n",
    "        # `out` will be a dict of Tensors, each representing a feature map\n",
    "        out = feature_extractor(batch) # dictionaly containing feture maps for each node\n",
    "        resp_name = f'{network}_trained_{not(untrained_net)}_inputsize_{input_imsize}.pkl' \n",
    "        resp_dir = result_dir / 'data' / 'net_resp' / resp_name \n",
    "        with open(resp_dir, 'wb') as f:\n",
    "            pickle.dump(out, f)"
   ]
  }
 ],
 "metadata": {
  "kernelspec": {
   "display_name": "Python 3.8.13 ('face_body_integration')",
   "language": "python",
   "name": "python3"
  },
  "language_info": {
   "codemirror_mode": {
    "name": "ipython",
    "version": 3
   },
   "file_extension": ".py",
   "mimetype": "text/x-python",
   "name": "python",
   "nbconvert_exporter": "python",
   "pygments_lexer": "ipython3",
   "version": "3.8.13"
  },
  "orig_nbformat": 4,
  "vscode": {
   "interpreter": {
    "hash": "d87f9d9441bcfb02359c7483eaf6d022f3628c7d4daddf0b9db0edc25e340c2f"
   }
  }
 },
 "nbformat": 4,
 "nbformat_minor": 2
}
